{
 "cells": [
  {
   "cell_type": "code",
   "execution_count": 1,
   "metadata": {},
   "outputs": [],
   "source": [
    "import os\n",
    "import json\n",
    "import requests\n",
    "from datetime import datetime\n",
    "from bs4 import BeautifulSoup\n",
    "\n",
    "import smtplib\n",
    "from email.mime.text import MIMEText\n",
    "\n",
    "url='http://www.revolve.com/briogeo/br/2e2c0b/'\n"
   ]
  },
  {
   "cell_type": "code",
   "execution_count": 6,
   "metadata": {},
   "outputs": [],
   "source": [
    "resp=requests.get(url)\n",
    "soup=BeautifulSoup(resp.content,\"lxml\")"
   ]
  },
  {
   "cell_type": "code",
   "execution_count": 7,
   "metadata": {},
   "outputs": [
    {
     "data": {
      "text/plain": [
       "<a aria-label=\"QUICK VIEW Scalp Revival Charcoal + Coconut Oil Micro-Exfoliating Shampoo\" class=\"image-hover__btn image-hover__btn--focusable js-plp-quickview\" data-code=\"BOGE-WU11\" href=\"#quickview-BOGE-WU11\" id=\"qv-open-BOGE-WU11\" onclick=\"showQuickViewV2(this, 'BOGE-WU11', 'Womens', '', event)\">\\n                        QUICK VIEW\\n                    </a>"
      ]
     },
     "execution_count": 7,
     "metadata": {},
     "output_type": "execute_result"
    }
   ],
   "source": [
    "hover_btns=soup.find_all('a',attrs={'class':\"image-hover__btn image-hover__btn--focusable js-plp-quickview\"})\n",
    "hover_btns[0]"
   ]
  },
  {
   "cell_type": "code",
   "execution_count": 8,
   "metadata": {},
   "outputs": [
    {
     "data": {
      "text/plain": [
       "[\"PREORDER Don't Despair, Repair! Deep Conditioning Hair Cap System 4 Pack\"]"
      ]
     },
     "execution_count": 8,
     "metadata": {},
     "output_type": "execute_result"
    }
   ],
   "source": [
    "[x['aria-label'] for x in hover_btns if x['aria-label'].count('PREORDER')]"
   ]
  },
  {
   "cell_type": "code",
   "execution_count": 9,
   "metadata": {},
   "outputs": [
    {
     "data": {
      "text/plain": [
       "['QUICK VIEW Scalp Revival Charcoal + Coconut Oil Micro-Exfoliating Shampoo',\n",
       " \"QUICK VIEW Don't Despair, Repair! Strength + Moisture Leave-In Mask\",\n",
       " \"QUICK VIEW Don't Despair, Repair! Deep Conditioning Mask\",\n",
       " 'QUICK VIEW Scalp Revival Charcoal + Biotin Dry Shampoo',\n",
       " 'QUICK VIEW Rosarco Blow Dry Perfection + Heat Protection Creme',\n",
       " 'QUICK VIEW Rosarco Repair Conditioner',\n",
       " 'QUICK VIEW Scalp Revival Charcoal + Tea Tree Scalp Treatment',\n",
       " 'QUICK VIEW Revive + Repair Power Duo',\n",
       " 'QUICK VIEW Rosarco Milk Reparative Leave-In Conditioning Spray',\n",
       " 'QUICK VIEW Be Gentle, Be Kind Green Tea Clarifying Shampoo',\n",
       " 'QUICK VIEW Rosarco Repair Shampoo',\n",
       " 'QUICK VIEW Curl Charisma Rice Amino + Shea Curl Defining Conditioner',\n",
       " 'QUICK VIEW Be Gentle, Be Kind Avocado + Quinoa Co-Wash',\n",
       " 'QUICK VIEW Rosarco Repair On-The-Go Travel Kit',\n",
       " 'QUICK VIEW Blossom & Bloom Ginseng + Biotin Volumizing Shampoo',\n",
       " 'QUICK VIEW Blossom & Bloom Ginseng + Biotin Volumizing Conditioner',\n",
       " 'QUICK VIEW Blossom & Bloom Ginseng + Biotin Volumizing Spray',\n",
       " 'QUICK VIEW Rosarco Oil',\n",
       " 'QUICK VIEW Blossom & Bloom Volumizing Travel Kit',\n",
       " 'QUICK VIEW Curl Charisma Rice Amino + Avocado Hydrating Shampoo',\n",
       " \"QUICK VIEW Don't Despair, Repair! Gel-to-Oil Overnight Repair Treatment\",\n",
       " 'QUICK VIEW Curl Charisma Rice Amino + Avocado Leave-In Defining Creme',\n",
       " 'QUICK VIEW Curl Charisma Rice Amino + Quinoa Frizz Control Gel']"
      ]
     },
     "execution_count": 9,
     "metadata": {},
     "output_type": "execute_result"
    }
   ],
   "source": [
    "[x['aria-label'] for x in hover_btns if x['aria-label'].count('QUICK VIEW')]"
   ]
  },
  {
   "cell_type": "code",
   "execution_count": 23,
   "metadata": {},
   "outputs": [
    {
     "name": "stdout",
     "output_type": "stream",
     "text": [
      "<li class=\"gc u-center item js-plp-container plp-container-BOGE-WU11\">\n",
      " <button aria-label=\"love Scalp Revival Charcoal + Coconut Oil Micro-Exfoliating Shampoo\" class=\"js-favorite-button favorite-button \" data-code=\"BOGE-WU11\" data-favorite-message=\"Favorite Scalp Revival Charcoal + Coconut Oil Micro-Exfoliating Shampoo in \" data-unfavorite-message=\"Unfavorite Scalp Revival Charcoal + Coconut Oil Micro-Exfoliating Shampoo in \" onclick=\"heartProductUpdated(this, this.getAttribute('data-code'), null); return false;\">\n",
      "  <span class=\"u-screen-reader\">\n",
      "   Unfavorite Scalp Revival Charcoal + Coconut Oil Micro-Exfoliating Shampoo in\n",
      "  </span>\n",
      "  <span class=\"icon icon--lg icon--heart-fill favorite-button__icon\">\n",
      "   <svg aria-hidden=\"true\" focusable=\"false\">\n",
      "    <use xlink:href=\"#icon-heart-fill\" xmlns:xlink=\"http://www.w3.org/1999/xlink\">\n",
      "    </use>\n",
      "   </svg>\n",
      "  </span>\n",
      " </button>\n",
      " <div class=\"plp_image_wrap u-center\">\n",
      "  <div class=\"u-text-decoration--none image-hover products-grid__image-link\">\n",
      "   <a class=\"js-plp-pdp-link\" href=\"/briogeo-scalp-revival-charcoal-coconut-oil-microexfoliating-shampoo/dp/BOGE-WU11/?d=Womens&amp;page=1&amp;lc=1&amp;itrownum=1&amp;itcurrpage=1&amp;itview=01\">\n",
      "    <img alt=\"Scalp Revival Charcoal + Coconut Oil Micro-Exfoliating Shampoo\" class=\"products-grid__image-link-img plp-image js-plp-image\" src=\"https://is4.revolveassets.com/images/p4/n/c/BOGE-WU11_V1.jpg\"/>\n",
      "    <img alt=\"Scalp Revival Charcoal + Coconut Oil Micro-Exfoliating Shampoo\" class=\"plp_altview\" data-lazy-src=\"https://is4.revolveassets.com/images/p4/n/c/BOGE-WU11_V1.jpg\" data-lazy-srcset=\"https://is4.revolveassets.com/images/p4/n/c/BOGE-WU11_V1.jpg .75x, https://is4.revolveassets.com/images/p4/n/c/BOGE-WU11_V1.jpg 1.5x\" src=\"//is4.revolveassets.com/fw/assets/main/source/blank.gif\"/>\n",
      "   </a>\n",
      "   <a aria-label=\"QUICK VIEW Scalp Revival Charcoal + Coconut Oil Micro-Exfoliating Shampoo\" class=\"image-hover__btn image-hover__btn--focusable js-plp-quickview\" data-code=\"BOGE-WU11\" href=\"#quickview-BOGE-WU11\" id=\"qv-open-BOGE-WU11\" onclick=\"showQuickViewV2(this, 'BOGE-WU11', 'Womens', '', event)\">\n",
      "    QUICK VIEW\n",
      "   </a>\n",
      "   <div class=\"js-plp-badge image-badge image-badge--bottom \" style=\"\">\n",
      "    <span class=\"image-badge__text\">\n",
      "     BEST SELLER\n",
      "    </span>\n",
      "   </div>\n",
      "  </div>\n",
      "  <!--end .image-hover -->\n",
      "  <a class=\"u-text-decoration--none js-plp-pdp-link2\" href=\"/briogeo-scalp-revival-charcoal-coconut-oil-microexfoliating-shampoo/dp/BOGE-WU11/?d=Womens&amp;page=1&amp;lc=1&amp;itrownum=1&amp;itcurrpage=1&amp;itview=01\">\n",
      "   <div class=\"plp-name product-titles__name product-titles__name--ellipsis-2 product-titles__name--sm u-margin-t--xl js-plp-name\">\n",
      "    Scalp Revival Charcoal + Coconut Oil Micro-Exfoliating Shampoo\n",
      "   </div>\n",
      "   <div class=\"plp-brand product-titles__brand product-titles__brand--font-primary u-line-height--lg js-plp-brand\">\n",
      "    Briogeo\n",
      "   </div>\n",
      "   <div class=\"prices prices--sm u-center js-plp-prices-div\">\n",
      "    <span class=\"plp_price prices__retail\">\n",
      "     $46\n",
      "    </span>\n",
      "   </div>\n",
      "  </a>\n",
      " </div>\n",
      "</li>\n",
      "\n",
      "QUICK VIEW\n",
      "QUICK VIEW\n",
      "QUICK VIEW\n",
      "PREORDER\n",
      "OOS: http://revolve.com/briogeo-dont-despair-repair-deep-conditioning-hair-cap-system-4-pack/dp/BOGE-WU25/?d=Womens&page=1&lc=4  Don't Despair, Repair! Deep Conditioning Hair Cap System 4 Pack\n",
      "QUICK VIEW\n",
      "QUICK VIEW\n",
      "QUICK VIEW\n",
      "QUICK VIEW\n",
      "QUICK VIEW\n",
      "QUICK VIEW\n",
      "QUICK VIEW\n",
      "QUICK VIEW\n",
      "QUICK VIEW\n",
      "QUICK VIEW\n",
      "QUICK VIEW\n",
      "QUICK VIEW\n",
      "QUICK VIEW\n",
      "QUICK VIEW\n",
      "QUICK VIEW\n",
      "QUICK VIEW\n",
      "QUICK VIEW\n",
      "QUICK VIEW\n",
      "QUICK VIEW\n",
      "QUICK VIEW\n"
     ]
    }
   ],
   "source": [
    "#prod_list=soup.find('ul',attrs={'id':\"plp-prod-list\"})\n",
    "prod_list=soup.find_all('li',attrs={'class':\"js-plp-container\"})\n",
    "print prod_list[0].prettify()\n",
    "#prods=prod_list.find_all('div',attrs={'class':\"plp_image_wrap\"})\n",
    "for p in prod_list:\n",
    "    link=p.find('a',attrs={'class':\"js-plp-pdp-link\"})\n",
    "    #print link[\"href\"]\n",
    "    hovr_btn=p.find('a',attrs={'class':\"image-hover__btn image-hover__btn--focusable js-plp-quickview\"})\n",
    "    print hovr_btn.get_text(strip=True)\n",
    "    #if hovr_btn['aria-label'].count('PREORDER'):\n",
    "    if hovr_btn.get_text(strip=True)=='PREORDER':\n",
    "        print \"OOS: http://revolve.com\"+link[\"href\"]+' '+hovr_btn['aria-label'].replace('PREORDER','')"
   ]
  },
  {
   "cell_type": "code",
   "execution_count": 28,
   "metadata": {},
   "outputs": [
    {
     "data": {
      "text/plain": [
       "True"
      ]
     },
     "execution_count": 28,
     "metadata": {},
     "output_type": "execute_result"
    }
   ],
   "source": [
    "prod_url='http://www.revolve.com/briogeo-rosarco-repair-conditioner/dp/BOGE-WU4/?product=BOGE-WU4'\n",
    "\n",
    "resp_prod=requests.get(prod_url)\n",
    "soup=BeautifulSoup(resp_prod.content,\"lxml\")\n",
    "\n",
    "preord_button=soup.find('input',attrs={'id':\"addtobagbutton_preorder\"})\n",
    "\n",
    "preord_button.attrs['style']==''"
   ]
  },
  {
   "cell_type": "code",
   "execution_count": 27,
   "metadata": {},
   "outputs": [
    {
     "data": {
      "text/plain": [
       "False"
      ]
     },
     "execution_count": 27,
     "metadata": {},
     "output_type": "execute_result"
    }
   ],
   "source": [
    "prod_url='http://www.revolve.com/briogeo-scalp-revival-charcoal-tea-tree-scalp-treatment/dp/BOGE-WU12/?product=BOGE-WU12'\n",
    "\n",
    "resp_prod=requests.get(prod_url)\n",
    "soup=BeautifulSoup(resp_prod.content,\"lxml\")\n",
    "\n",
    "preord_button=soup.find('input',attrs={'id':\"addtobagbutton_preorder\"})\n",
    "\n",
    "preord_button.attrs['style']==''"
   ]
  },
  {
   "cell_type": "code",
   "execution_count": null,
   "metadata": {
    "collapsed": true
   },
   "outputs": [],
   "source": []
  }
 ],
 "metadata": {
  "kernelspec": {
   "display_name": "Python 3",
   "language": "python",
   "name": "python3"
  },
  "language_info": {
   "codemirror_mode": {
    "name": "ipython",
    "version": 3
   },
   "file_extension": ".py",
   "mimetype": "text/x-python",
   "name": "python",
   "nbconvert_exporter": "python",
   "pygments_lexer": "ipython3",
   "version": "3.6.4"
  }
 },
 "nbformat": 4,
 "nbformat_minor": 2
}
