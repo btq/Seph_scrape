{
 "cells": [
  {
   "cell_type": "code",
   "execution_count": 1,
   "metadata": {
    "collapsed": true
   },
   "outputs": [],
   "source": [
    "import os\n",
    "import json\n",
    "import requests\n",
    "from datetime import datetime\n",
    "from bs4 import BeautifulSoup\n",
    "\n",
    "import smtplib\n",
    "from email.mime.text import MIMEText\n",
    "\n"
   ]
  },
  {
   "cell_type": "code",
   "execution_count": 2,
   "metadata": {
    "collapsed": true
   },
   "outputs": [],
   "source": [
    "urlroot='https://sephora.ca'\n",
    "prod_urls=['/product/scalp-revival-charcoal-coconut-oil-micro-exfoliating-shampoo-P418507',\n",
    "'/product/dont-despair-repair-deep-conditioning-mask-P388628',\n",
    "'/product/dont-despair-repair-deep-conditioning-hair-cap-system-P425409',\n",
    "'/product/don-t-despair-repair-super-moisture-shampoo-P427718',\n",
    "'/product/scalp-revival-charcoal-tea-tree-scalp-treatment-P418506',\n",
    "'/product/don-t-despair-repair-strength-moisture-leave-in-mask-P427526',\n",
    "'/product/rosarco-milk-reparative-leave-in-conditioning-spray-P396733',\n",
    "'/product/rosarco-blow-dry-perfection-heat-protectant-creme-P411359',\n",
    "'/product/blossom-bloom-ginseng-biotin-volumizing-shampoo-P402071',\n",
    "'/product/scalp-revival-charcoal-biotin-dry-shampoo-P418505',\n",
    "'/product/rosarco-repair-conditioner-P402073',\n",
    "'/product/blossom-bloom-ginseng-biotin-volumizing-conditioner-P388625',\n",
    "'/product/rosarco-milk-tm-reparative-leave-in-conditioning-spray-mini-P426205',\n",
    "'/product/curl-charisma-rice-amino-avocado-leave-in-defining-creme-P388626',\n",
    "'/product/blossom-bloom-ginseng-biotin-volumizing-spray-P396734',\n",
    "'/product/rosarco-repair-shampoo-P402072',\n",
    "'/product/be-gentle-be-kind-avocado-quinoa-co-wash-P388623',\n",
    "'/product/revive-repair-scalp-hair-power-duo-P427719',\n",
    "'/product/rosarco-oil-P388629',\n",
    "'/product/don-t-despair-repair-gel-to-oil-overnight-repair-treatment-P408248',\n",
    "'/product/curl-charisma-rice-amino-quinoa-frizz-control-gel-P408411',\n",
    "'/product/be-gentle-be-kind-green-tea-clarifying-shampoo-P388624',\n",
    "'/product/curl-charisma-definition-on-the-go-travel-kit-P422368',\n",
    "'/product/curl-charisma-rice-amino-shampoo-P402074',\n",
    "'/product/rosarco-repair-on-the-go-travel-kit-P422369',\n",
    "'/product/curl-charisma-rice-amino-shea-curl-defining-conditioner-P388627',\n",
    "'/product/blossom-bloom-volumizing-on-the-go-travel-kit-P422370',\n",
    "'/product/scalp-revival-charcoal-coconut-oil-micro-exfoliating-shampoo-mini-P427715',\n",
    "'/product/don-rsquo-t-despair-repair-tm-deep-conditioning-mask-mini-P426204']\n",
    "oos_flag=False\n"
   ]
  },
  {
   "cell_type": "code",
   "execution_count": 5,
   "metadata": {},
   "outputs": [
    {
     "ename": "SyntaxError",
     "evalue": "invalid syntax (<ipython-input-5-821417957800>, line 12)",
     "output_type": "error",
     "traceback": [
      "\u001b[0;36m  File \u001b[0;32m\"<ipython-input-5-821417957800>\"\u001b[0;36m, line \u001b[0;32m12\u001b[0m\n\u001b[0;31m    except(requests.HTTPError, requests.ConnectionError), error:\u001b[0m\n\u001b[0m                                                        ^\u001b[0m\n\u001b[0;31mSyntaxError\u001b[0m\u001b[0;31m:\u001b[0m invalid syntax\n"
     ]
    }
   ],
   "source": [
    "email_filename = 'oos_email_can' + str(datetime.now().date()) + '.txt'\n",
    "\n",
    "if os.path.isfile(email_filename):\n",
    "    print('Already run and sent today')\n",
    "else:\n",
    "    text_file = open(email_filename, \"w\")\n",
    "    for p in prod_urls:\n",
    "        print(p)\n",
    "        try:\n",
    "            resp=requests.get(urlroot+p+'?country_switch=ca&lang=en')\n",
    "        except(requests.HTTPError, requests.ConnectionError), error:\n",
    "            os.remove(email_filename)\n",
    "            raise\n",
    "            exit()\n",
    "        soup = BeautifulSoup(resp.content,\"lxml\")\n",
    "        data = soup.find('script',attrs={'id':\"linkJSON\"}).get_text()\n",
    "        output = json.loads(data)\n",
    "        for d in output:\n",
    "            if d['path']=='ProductPage/Type/RegularProduct/RegularProductTop':\n",
    "                prod=d['props']['currentProduct']\n",
    "                if 'regularChildSkus' in prod.keys():\n",
    "                    field='regularChildSkus'\n",
    "                    for sku in prod[field]:\n",
    "                        print sku['targetUrl'], sku['skuName'], ' OOS:', sku['isOutOfStock'], ' FewLeft:', sku['isOnlyFewLeft']\n",
    "                        if sku['isOutOfStock']:\n",
    "                            oos_flag=True\n",
    "                            text_file.write(\"\\nOOS: {0} {1}\\n\".format(urlroot+sku['targetUrl'], sku['skuName']))\n",
    "                        if sku['isOnlyFewLeft']:\n",
    "                            oos_flag=True\n",
    "                            text_file.write(\"\\mFEW_LEFT: {0} {1}\\n\".format(urlroot+sku['targetUrl'], sku['skuName']))\n",
    "                else:\n",
    "                    field='currentSku'\n",
    "                    sku=prod[field]\n",
    "                    print sku['targetUrl'], ' OOS:', sku['isOutOfStock'], ' FewLeft:', sku['isOnlyFewLeft']\n",
    "                    if sku['isOutOfStock']:\n",
    "                        oos_flag=True\n",
    "                        text_file.write(\"\\nOOS: {0}\\n\".format(urlroot+sku['targetUrl']))\n",
    "                    if sku['isOnlyFewLeft']:\n",
    "                        oos_flag=True\n",
    "                        text_file.write(\"\\nFEW_LEFT: {0}\\n\".format(urlroot+sku['targetUrl']))\n",
    "    text_file.close()                \n",
    "    #if oos_flag:\n",
    "        #print 'email'\n",
    "    #    email_nancy(email_filename)\n",
    "    #else:\n",
    "    #    os.remove(email_filename)\n",
    "    #    print email_filename, ' removed. No items OOS'\n",
    "\n"
   ]
  },
  {
   "cell_type": "code",
   "execution_count": null,
   "metadata": {
    "collapsed": true
   },
   "outputs": [],
   "source": []
  }
 ],
 "metadata": {
  "kernelspec": {
   "display_name": "Python 3",
   "language": "python",
   "name": "python3"
  },
  "language_info": {
   "codemirror_mode": {
    "name": "ipython",
    "version": 3
   },
   "file_extension": ".py",
   "mimetype": "text/x-python",
   "name": "python",
   "nbconvert_exporter": "python",
   "pygments_lexer": "ipython3",
   "version": "3.6.3"
  }
 },
 "nbformat": 4,
 "nbformat_minor": 2
}
